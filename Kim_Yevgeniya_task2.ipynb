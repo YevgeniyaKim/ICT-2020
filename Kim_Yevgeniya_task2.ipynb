{
 "cells": [
  {
   "cell_type": "code",
   "execution_count": 1,
   "metadata": {},
   "outputs": [
    {
     "name": "stdout",
     "output_type": "stream",
     "text": [
      "Please enter the row number for the first cell: 4\n",
      "Please enter the column number for the first cell:4\n",
      "Please enter the row number for the second cell:5\n",
      "Please enter the column number for the second cell:5\n",
      "No\n"
     ]
    }
   ],
   "source": [
    "rowNumR1 = int(input(\"Please enter the row number for the first cell: \"))\n",
    "columnNumR1 = int(input(\"Please enter the column number for the first cell:\"))\n",
    "\n",
    "rowNumR2 = int(input(\"Please enter the row number for the second cell:\"))\n",
    "columnNumR2 = int(input(\"Please enter the column number for the second cell:\" ))\n",
    "\n",
    "if rowNumR1 == rowNumR2 or columnNumR1 == columnNumR2:\n",
    "    print(\"Yes\")\n",
    "else: \n",
    "    print(\"No\")"
   ]
  },
  {
   "cell_type": "code",
   "execution_count": 2,
   "metadata": {},
   "outputs": [
    {
     "name": "stdout",
     "output_type": "stream",
     "text": [
      "Please enter the row number for the first cell: 4\n",
      "Please enter the column number for the first cell:4\n",
      "Please enter the row number for the second cell:5\n",
      "Please enter the column number for the second cell:5\n",
      "Yes\n"
     ]
    }
   ],
   "source": [
    "rowNumK1 = int(input(\"Please enter the row number for the first cell: \"))\n",
    "columnNumK1 = int(input(\"Please enter the column number for the first cell:\"))\n",
    "\n",
    "rowNumK2 = int(input(\"Please enter the row number for the second cell:\"))\n",
    "columnNumK2 = int(input(\"Please enter the column number for the second cell:\" ))\n",
    "\n",
    "if abs(rowNumK2 - rowNumK1) < 2 or abs(columnNumK2 - columnNumK1) < 2:\n",
    "    print(\"Yes\")\n",
    "else: \n",
    "    print(\"No\")"
   ]
  },
  {
   "cell_type": "code",
   "execution_count": 3,
   "metadata": {},
   "outputs": [
    {
     "name": "stdout",
     "output_type": "stream",
     "text": [
      "Please enter the row number for the first cell: 4\n",
      "Please enter the column number for the first cell:4\n",
      "Please enter the row number for the second cell:5\n",
      "Please enter the column number for the second cell:5\n",
      "Yes\n"
     ]
    }
   ],
   "source": [
    "rowNumE1 = int(input(\"Please enter the row number for the first cell: \"))\n",
    "columnNumE1 = int(input(\"Please enter the column number for the first cell:\"))\n",
    "\n",
    "rowNumE2 = int(input(\"Please enter the row number for the second cell:\"))\n",
    "columnNumE2 = int(input(\"Please enter the column number for the second cell:\" ))\n",
    "\n",
    "if abs(rowNumE2 - rowNumE1) == abs(columnNumE2 - columnNumE1):\n",
    "    print(\"Yes\")\n",
    "else: \n",
    "    print(\"No\")"
   ]
  },
  {
   "cell_type": "code",
   "execution_count": 4,
   "metadata": {},
   "outputs": [
    {
     "name": "stdout",
     "output_type": "stream",
     "text": [
      "Please enter the row number for the first cell: 1\n",
      "Please enter the column number for the first cell:1\n",
      "Please enter the row number for the second cell:2\n",
      "Please enter the column number for the second cell:2\n",
      "Yes\n"
     ]
    }
   ],
   "source": [
    "rowNumQ1 = int(input(\"Please enter the row number for the first cell: \"))\n",
    "columnNumQ1 = int(input(\"Please enter the column number for the first cell:\"))\n",
    "\n",
    "rowNumQ2 = int(input(\"Please enter the row number for the second cell:\"))\n",
    "columnNumQ2 = int(input(\"Please enter the column number for the second cell:\" ))\n",
    "\n",
    "if abs(rowNumQ2 - rowNumQ1) == abs(columnNumQ2 - columnNumQ1) or rowNumQ1 == rowNumQ2 or columnNumQ1 == columnNumQ2:\n",
    "    print(\"Yes\")\n",
    "else: \n",
    "    print(\"No\")"
   ]
  },
  {
   "cell_type": "code",
   "execution_count": 5,
   "metadata": {},
   "outputs": [
    {
     "name": "stdout",
     "output_type": "stream",
     "text": [
      "Please enter the row number for the first cell: 1\n",
      "Please enter the column number for the first cell:1\n",
      "Please enter the row number for the second cell:1\n",
      "Please enter the column number for the second cell:4\n",
      "No\n"
     ]
    }
   ],
   "source": [
    "rowNumH1 = int(input(\"Please enter the row number for the first cell: \"))\n",
    "columnNumH1 = int(input(\"Please enter the column number for the first cell:\"))\n",
    "\n",
    "rowNumH2 = int(input(\"Please enter the row number for the second cell:\"))\n",
    "columnNumH2 = int(input(\"Please enter the column number for the second cell:\" ))\n",
    "\n",
    "if abs(rowNumH2 - rowNumH1) != abs(columnNumH2 - columnNumH1) and abs(rowNumH2 - rowNumH1) > 0 and abs(rowNumH2 - rowNumH1) < 3 and abs(columnNumH2 - columnNumH1) > 0 and abs(columnNumH2 - columnNumH1) < 3:\n",
    "    print(\"Yes\")\n",
    "else: \n",
    "    print(\"No\")"
   ]
  },
  {
   "cell_type": "code",
   "execution_count": 6,
   "metadata": {},
   "outputs": [
    {
     "name": "stdout",
     "output_type": "stream",
     "text": [
      "Please enter the length of the chocolate bar: 4\n",
      "Please enter the width of the chocolate bar: 2\n",
      "Please enter the number of slices after dividing the chocolate: 6\n",
      "Yes\n"
     ]
    }
   ],
   "source": [
    "length = int(input(\"Please enter the length of the chocolate bar: \"))\n",
    "width = int(input(\"Please enter the width of the chocolate bar: \"))\n",
    "slices = int(input(\"Please enter the number of slices after dividing the chocolate: \"))\n",
    "\n",
    "if (slices % width == 0 and slices / width < length) or (slices % length == 0 and slices / length < width):\n",
    "    print('Yes')\n",
    "else:\n",
    "    print('No')"
   ]
  },
  {
   "cell_type": "code",
   "execution_count": 27,
   "metadata": {},
   "outputs": [
    {
     "name": "stdout",
     "output_type": "stream",
     "text": [
      "Please enter the length of the pool: 23\n",
      "Please enter the width of the pool: 52\n",
      "Please enter the distance from the first side: 8\n",
      "Please enter the distance from the second side: 43\n",
      "Shortest way is 8.\n"
     ]
    }
   ],
   "source": [
    "length1 = int(input(\"Please enter the length of the pool: \"))\n",
    "width1 = int(input(\"Please enter the width of the pool: \"))\n",
    "\n",
    "distance1 = int(input(\"Please enter the distance from the first side: \"))\n",
    "distance2 = int(input(\"Please enter the distance from the second side: \"))\n",
    "\n",
    "minDistance = min(distance1, distance2)\n",
    "\n",
    "if distance1 > length1 or distance2 > width1:\n",
    "    print(\"Error: Yasha is out of pool\")\n",
    "else:\n",
    "    print(\"Shortest way is {}.\".format(minDistance))"
   ]
  },
  {
   "cell_type": "code",
   "execution_count": 8,
   "metadata": {},
   "outputs": [
    {
     "name": "stdout",
     "output_type": "stream",
     "text": [
      "Please enter the first number: 1\n",
      "Please enter the second number: 2\n",
      "Please enter the third number: 1\n",
      "The sequence of number in ascending order: 1 1 2.\n"
     ]
    }
   ],
   "source": [
    "a = int(input(\"Please enter the first number: \"))\n",
    "b = int(input(\"Please enter the second number: \"))\n",
    "c = int(input(\"Please enter the third number: \"))\n",
    "\n",
    "nums = [a,b,c]\n",
    "nums.sort()\n",
    "\n",
    "print(\"The sequence of number in ascending order: {0} {1} {2}.\".format(nums[0], nums[1], nums[2]))"
   ]
  },
  {
   "cell_type": "code",
   "execution_count": 25,
   "metadata": {},
   "outputs": [
    {
     "name": "stdout",
     "output_type": "stream",
     "text": [
      "Please enter the length of the first box: 5\n",
      "Please anter the width of the first box: 2\n",
      "Please enter the height of the first box: 4\n",
      "Please enter the length of the second box: 6\n",
      "Please anter the width of the second box: 1\n",
      "Please enter the height of the second box: 3\n",
      "The boxes are incomparable.\n"
     ]
    }
   ],
   "source": [
    "a1 = int(input(\"Please enter the length of the first box: \"))\n",
    "b1 = int(input(\"Please anter the width of the first box: \"))\n",
    "c1 = int(input(\"Please enter the height of the first box: \"))\n",
    "\n",
    "a2 = int(input(\"Please enter the length of the second box: \"))\n",
    "b2 = int(input(\"Please anter the width of the second box: \"))\n",
    "c2 = int(input(\"Please enter the height of the second box: \"))\n",
    "\n",
    "v1 = a1 * b1 * c1\n",
    "v2 = a2 * b2 * c2\n",
    "\n",
    "if v1 == v2:\n",
    "    print(\"Boxes are equal.\")\n",
    "elif a1 <= a2 and b1 <= b2 and c1 < c2 or b1 <= b2 and c1 <= c2 and a1 < a2 or c1 <= c2 and a1 <= a2 and b1 < b2:\n",
    "    print(\"The first box is smaller than the second one.\")\n",
    "elif a1 >= a2 and b1 >= b2 and c1 > c2 or b1 >= b2 and c1 >= c2 and a1 > a2 or c1 >= c2 and a1 >= a2 and b1 > b2:\n",
    "    print(\"The first box is larger than the second one.\")\n",
    "else:\n",
    "    print(\"The boxes are incomparable.\")"
   ]
  },
  {
   "cell_type": "code",
   "execution_count": 11,
   "metadata": {},
   "outputs": [
    {
     "name": "stdout",
     "output_type": "stream",
     "text": [
      "Please enter the number: 50\n",
      "1\n",
      "4\n",
      "9\n",
      "16\n",
      "25\n",
      "36\n",
      "49\n"
     ]
    }
   ],
   "source": [
    "number = int(input(\"Please enter the number: \"))\n",
    "\n",
    "i = 1\n",
    "while i ** 2 < number:\n",
    "    print(i ** 2)\n",
    "    i += 1"
   ]
  },
  {
   "cell_type": "code",
   "execution_count": 12,
   "metadata": {},
   "outputs": [
    {
     "name": "stdout",
     "output_type": "stream",
     "text": [
      "Please enter the number: 15\n",
      "The smallest divisor is 3.\n"
     ]
    }
   ],
   "source": [
    "num1 = int(input(\"Please enter the number: \"))\n",
    "check = False\n",
    "\n",
    "if num1 % 2 == 0:\n",
    "    print(\"The smallest divisor is 2.\")\n",
    "    check = True\n",
    "else:\n",
    "    i = 3\n",
    "    while i ** 2 <= num1:\n",
    "        if num1 % i == 0:\n",
    "            print(\"The smallest divisor is {}.\".format(i))\n",
    "            check = True\n",
    "        i += 2\n",
    "    \n",
    "if check == False:\n",
    "    print(\"The smallest divisor is {}.\".format(num1))"
   ]
  },
  {
   "cell_type": "code",
   "execution_count": 13,
   "metadata": {},
   "outputs": [
    {
     "name": "stdout",
     "output_type": "stream",
     "text": [
      "Please enter the number: 50\n",
      "1\n",
      "2\n",
      "4\n",
      "8\n",
      "16\n",
      "32\n"
     ]
    }
   ],
   "source": [
    "num2 = int(input(\"Please enter the number: \"))\n",
    "\n",
    "i = 0\n",
    "while 2 ** i < num2:\n",
    "    print(2 ** i)\n",
    "    i += 1"
   ]
  },
  {
   "cell_type": "code",
   "execution_count": 16,
   "metadata": {},
   "outputs": [
    {
     "name": "stdout",
     "output_type": "stream",
     "text": [
      "Please enter the number: 3\n",
      "Please enter the number: 6\n",
      "Please enter the number: 8\n",
      "Please enter the number: 0\n",
      "The sum of digits equals 17.\n"
     ]
    }
   ],
   "source": [
    "num3 = 1\n",
    "sumOfnum = 0\n",
    "while num3 != 0:\n",
    "    num3 = int(input(\"Please enter the number: \"))\n",
    "    sumOfnum += num3\n",
    "\n",
    "print(\"The sum of digits equals {}.\".format(sumOfnum))"
   ]
  },
  {
   "cell_type": "code",
   "execution_count": 17,
   "metadata": {},
   "outputs": [
    {
     "name": "stdout",
     "output_type": "stream",
     "text": [
      "Please enter the number: 1\n",
      "Please enter the number: 7\n",
      "Please enter the number: 9\n",
      "Please enter the number: 0\n",
      "The biggest value is 9.\n",
      "1 element(s) of this sequence are equal to the largest element of this sequence.\n"
     ]
    }
   ],
   "source": [
    "import numpy as np\n",
    "\n",
    "arr = []\n",
    "numbers = 1\n",
    "cnt = 0\n",
    "while numbers != 0:\n",
    "    numbers = int(input(\"Please enter the number: \"))\n",
    "    arr.append(numbers)\n",
    "\n",
    "max = np.max(arr)\n",
    "\n",
    "print(\"The biggest value is {}.\".format(max))\n",
    "\n",
    "for i in range (len(arr)):\n",
    "    if max == arr[i]:\n",
    "        cnt += 1\n",
    "\n",
    "print(\"{} element(s) of this sequence are equal to the largest element of this sequence.\".format(cnt))"
   ]
  },
  {
   "cell_type": "code",
   "execution_count": 18,
   "metadata": {},
   "outputs": [
    {
     "name": "stdout",
     "output_type": "stream",
     "text": [
      "Please enter the number: 8\n",
      "6\n"
     ]
    }
   ],
   "source": [
    "num4 = int(input(\"Please enter the number: \"))\n",
    "f0 = 0\n",
    "f1 = 1\n",
    "f2 = 1\n",
    "check1 = False\n",
    "\n",
    "i = 3\n",
    "fibonacciSum = 0\n",
    "while fibonacciSum < num4:\n",
    "    fibonacciSum = f1 + f2\n",
    "    f1 = f2\n",
    "    f2 = fibonacciSum\n",
    "    if num4 == fibonacciSum:\n",
    "        print(i)\n",
    "        check1 = True\n",
    "\n",
    "    else:\n",
    "        i = i + 1\n",
    "\n",
    "if check1 == False:\n",
    "    print(-1)"
   ]
  },
  {
   "cell_type": "code",
   "execution_count": 19,
   "metadata": {},
   "outputs": [
    {
     "name": "stdout",
     "output_type": "stream",
     "text": [
      "Please enter the number: 1\n",
      "Please enter the number: 2\n",
      "Please enter the number: 1\n",
      "Please enter the number: 2\n",
      "Please enter the number: 1\n",
      "Please enter the number: 0\n",
      "The number of local maximums is 2.\n"
     ]
    }
   ],
   "source": [
    "arr1 = []\n",
    "digits = 1\n",
    "cnt1 = 0\n",
    "while digits != 0:\n",
    "    digits = int(input(\"Please enter the number: \"))\n",
    "    arr1.append(digits) \n",
    "\n",
    "i = 1\n",
    "for i in range(len(arr1)):\n",
    "    if arr1[i] > arr1[i - 1] and arr1[i] > arr1[i + 1]:\n",
    "        cnt1 += 1\n",
    "\n",
    "print(\"The number of local maximums is {}.\".format(cnt1))"
   ]
  },
  {
   "cell_type": "code",
   "execution_count": 20,
   "metadata": {},
   "outputs": [
    {
     "name": "stdout",
     "output_type": "stream",
     "text": [
      "Please enter the size of the array: 6\n",
      "1 2 2 3 3 3\n",
      "The number of elements in array is equal to 3.\n"
     ]
    }
   ],
   "source": [
    "sizeOfArray = int(input(\"Please enter the size of the array: \"))\n",
    "\n",
    "arr2 = list(map(int, input().split()))\n",
    "secondArr = []\n",
    "\n",
    "for i in arr2:\n",
    "    if i not in secondArr:\n",
    "        secondArr.append(i)\n",
    "\n",
    "print(\"The number of elements in array is equal to {}.\".format(len(secondArr)))"
   ]
  },
  {
   "cell_type": "code",
   "execution_count": 21,
   "metadata": {},
   "outputs": [
    {
     "name": "stdout",
     "output_type": "stream",
     "text": [
      "Please enter the size of array: 5\n",
      "1 2 3 4 5\n",
      "[5, 1, 2, 3, 4]\n"
     ]
    }
   ],
   "source": [
    "sizeOfArray1 = int(input(\"Please enter the size of array: \"))\n",
    "\n",
    "arr3 = list(map(int, input().split()))\n",
    "secondArr1 = []\n",
    "\n",
    "arr3.insert(0, arr3.pop())\n",
    "\n",
    "print(arr3)"
   ]
  }
 ],
 "metadata": {
  "kernelspec": {
   "display_name": "Python 3",
   "language": "python",
   "name": "python3"
  },
  "language_info": {
   "codemirror_mode": {
    "name": "ipython",
    "version": 3
   },
   "file_extension": ".py",
   "mimetype": "text/x-python",
   "name": "python",
   "nbconvert_exporter": "python",
   "pygments_lexer": "ipython3",
   "version": "3.8.3"
  }
 },
 "nbformat": 4,
 "nbformat_minor": 4
}
