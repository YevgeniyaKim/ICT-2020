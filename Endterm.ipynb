{
 "cells": [
  {
   "cell_type": "code",
   "execution_count": 25,
   "metadata": {},
   "outputs": [
    {
     "name": "stdout",
     "output_type": "stream",
     "text": [
      "Please enter the number of the table size: 6\n",
      "Please enter the required number: 12\n",
      "The number of cells in which the number occurs is 4.\n"
     ]
    }
   ],
   "source": [
    "# You are given a positive integer x. Your task is to count the number of cells in a table that contain number x.\n",
    "\n",
    "n = int(input(\"Please enter the number of the table size: \"))\n",
    "x = int(input(\"Please enter the required number: \"))\n",
    "ans = 0\n",
    "\n",
    "for i in range(1, n + 1):\n",
    "    if x % i == 0 and x / i <= n:\n",
    "        ans += 1\n",
    "        \n",
    "print(\"The number of cells in which the number occurs is {}.\".format(ans))"
   ]
  },
  {
   "cell_type": "code",
   "execution_count": 45,
   "metadata": {},
   "outputs": [
    {
     "name": "stdout",
     "output_type": "stream",
     "text": [
      "Please enter the year: 2013\n",
      "2014\n"
     ]
    }
   ],
   "source": [
    "# Now you are suggested to solve the following problem: given a year number, \n",
    "# find the minimum year number which is strictly larger than the given one and has only distinct digits.\n",
    "\n",
    "year = int(input(\"Please enter the year: \"))\n",
    "a = b = c = d = 0\n",
    "\n",
    "while(True):\n",
    "    year += 1\n",
    "    a = year / 1000\n",
    "    b = (year / 100) % 10\n",
    "    c = (year / 10) % 10\n",
    "    d = year % 10  \n",
    "    if a != b and a != c and a != d and b != c and b != d and c != d:\n",
    "        print(year)\n",
    "        break"
   ]
  },
  {
   "cell_type": "code",
   "execution_count": 23,
   "metadata": {},
   "outputs": [
    {
     "name": "stdout",
     "output_type": "stream",
     "text": [
      "Please enter the number of employees: 10\n",
      "The number of possible ways is 3.\n"
     ]
    }
   ],
   "source": [
    "# Given the number of employees n, find in how many ways Fafa could choose the number of team leaders l \n",
    "# in such a way that it is possible to divide employees between them evenly.\n",
    "\n",
    "num = int(input(\"Please enter the number of employees: \"))\n",
    "cnt = 0\n",
    "\n",
    "for i in range(1, num // 2 + 1):\n",
    "    if (num - i) % i == 0:\n",
    "        cnt += 1\n",
    "        \n",
    "print(\"The number of possible ways is {}.\".format(cnt))"
   ]
  },
  {
   "cell_type": "code",
   "execution_count": 20,
   "metadata": {},
   "outputs": [
    {
     "name": "stdout",
     "output_type": "stream",
     "text": [
      "sevenkplus\n",
      "CHAT WITH HER!\n"
     ]
    }
   ],
   "source": [
    "# This is his method: if the number of distinct characters in one's user name is odd, then he is a male,  \n",
    "# otherwise she is a female. You are given the string that denotes the user name, please help our hero \n",
    "# to determine the gender of this user by his method.\n",
    "\n",
    "username = input()\n",
    "msg = set(username)\n",
    "\n",
    "if len(msg) % 2 == 0:\n",
    "    print(\"CHAT WITH HER!\")\n",
    "else:\n",
    "    print(\"IGNORE HIM!\")"
   ]
  },
  {
   "cell_type": "code",
   "execution_count": 32,
   "metadata": {},
   "outputs": [
    {
     "name": "stdout",
     "output_type": "stream",
     "text": [
      "Please enter the number of coordinates:3\n",
      "3 -1 7\n",
      "-5 2 -4\n",
      "2 -1 -3\n",
      "YES\n"
     ]
    }
   ],
   "source": [
    "# Write a program that determines whether a body is idle or is moving by the given vectors of forces.\n",
    "\n",
    "num_coordinates = int(input(\"Please enter the number of coordinates:\"))\n",
    "x1 = y1 = z1 = 0\n",
    "\n",
    "for i in range(num_coordinates):\n",
    "    x, y, z = map(int,input().split())\n",
    "    x1 += x\n",
    "    y1 += y\n",
    "    z1 += z\n",
    "if x1 == y1 == z1 == 0:\n",
    "    print(\"YES\")\n",
    "else:\n",
    "    print(\"NO\")"
   ]
  }
 ],
 "metadata": {
  "kernelspec": {
   "display_name": "Python 3",
   "language": "python",
   "name": "python3"
  },
  "language_info": {
   "codemirror_mode": {
    "name": "ipython",
    "version": 3
   },
   "file_extension": ".py",
   "mimetype": "text/x-python",
   "name": "python",
   "nbconvert_exporter": "python",
   "pygments_lexer": "ipython3",
   "version": "3.8.3"
  }
 },
 "nbformat": 4,
 "nbformat_minor": 4
}
