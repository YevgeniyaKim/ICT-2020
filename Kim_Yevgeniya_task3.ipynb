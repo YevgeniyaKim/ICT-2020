{
 "cells": [
  {
   "cell_type": "code",
   "execution_count": 1,
   "metadata": {},
   "outputs": [
    {
     "name": "stdout",
     "output_type": "stream",
     "text": [
      "Codeforces\n",
      ".c.d.f.r.c.s\n"
     ]
    }
   ],
   "source": [
    "string = input()\n",
    "vowels = [\"a\", \"e\", \"i\", \"o\", \"u\", \"y\"]\n",
    "\n",
    "old_string = string.lower()\n",
    "new_string = \"\"\n",
    "\n",
    "for i in old_string:\n",
    "    if i in vowels:\n",
    "        continue\n",
    "    else:\n",
    "        new_string += f\".{i}\"\n",
    "        \n",
    "print(new_string)"
   ]
  },
  {
   "cell_type": "code",
   "execution_count": 4,
   "metadata": {},
   "outputs": [
    {
     "name": "stdout",
     "output_type": "stream",
     "text": [
      "1+1+3+1+3 \n",
      "1+1+1+3+3 \n"
     ]
    }
   ],
   "source": [
    "string1 = input()\n",
    "\n",
    "operands = string1.split(\"+\")\n",
    "operands = sorted(operands)\n",
    "\n",
    "sorted_str = \"+\".join(operands)\n",
    "\n",
    "print(sorted_str)"
   ]
  },
  {
   "cell_type": "code",
   "execution_count": 6,
   "metadata": {},
   "outputs": [
    {
     "name": "stdout",
     "output_type": "stream",
     "text": [
      "konjac \n",
      "Konjac \n"
     ]
    }
   ],
   "source": [
    "string3 = input()\n",
    "\n",
    "capitalized_word = string3.replace(string3[0], string3[0].upper())\n",
    "print(capitalized_word)"
   ]
  },
  {
   "cell_type": "code",
   "execution_count": 9,
   "metadata": {},
   "outputs": [
    {
     "name": "stdout",
     "output_type": "stream",
     "text": [
      "1000000001 \n",
      "YES\n"
     ]
    }
   ],
   "source": [
    "positions = input()\n",
    "\n",
    "cx = 0\n",
    "prev = positions[0]\n",
    "for i in positions[1:]:\n",
    "    if i == prev:\n",
    "        cx += 1\n",
    "    prev = i\n",
    "    \n",
    "if cx >= 7:\n",
    "    print(\"YES\")\n",
    "else: \n",
    "    print(\"NO\")"
   ]
  },
  {
   "cell_type": "code",
   "execution_count": 12,
   "metadata": {},
   "outputs": [
    {
     "name": "stdout",
     "output_type": "stream",
     "text": [
      "xiaodao\n",
      "IGNORE HIM!\n"
     ]
    }
   ],
   "source": [
    "username = input()\n",
    "\n",
    "ans = set(username)\n",
    "if len(ans) % 2 == 0:\n",
    "    print(\"CHAT WITH HER!\")\n",
    "else:\n",
    "    print(\"IGNORE HIM!\")"
   ]
  },
  {
   "cell_type": "code",
   "execution_count": 20,
   "metadata": {},
   "outputs": [
    {
     "name": "stdout",
     "output_type": "stream",
     "text": [
      "maTRIx\n",
      "matrix\n"
     ]
    }
   ],
   "source": [
    "word = input()\n",
    "\n",
    "cnt1 = 0\n",
    "cnt2 = 0\n",
    "\n",
    "for i in range(0, len(word)):\n",
    "    if word[i].isupper():\n",
    "        cnt1 += 1\n",
    "    elif word[i].islower():\n",
    "        cnt2 += 1\n",
    "\n",
    "if cnt1 > cnt2:\n",
    "    print(word.upper())\n",
    "elif cnt1 <= cnt2:\n",
    "    print(word.lower())"
   ]
  },
  {
   "cell_type": "code",
   "execution_count": 30,
   "metadata": {},
   "outputs": [
    {
     "name": "stdout",
     "output_type": "stream",
     "text": [
      "toosmallword\n",
      "NO\n"
     ]
    }
   ],
   "source": [
    "# pangram = input()\n",
    "\n",
    "# cnt = 0\n",
    "\n",
    "# for i in range(0, len(pangram)):\n",
    "#     if pangram[i].isupper() or pangram[i].islower():\n",
    "#         cnt += 1\n",
    "\n",
    "# if cnt == 26:\n",
    "#     print(\"YES\")\n",
    "# else:\n",
    "#     print(\"NO\")\n",
    "\n",
    "def checkPangram(s): \n",
    "    alphabet = [] \n",
    "    # create list of 26 charecters and set false each entry \n",
    "    for i in range(26): \n",
    "        alphabet.append(False) \n",
    "          \n",
    "    # converting the sentence to lowercase and iterating \n",
    "    # over the sentence  \n",
    "    for i in s.lower():\n",
    "        alphabet[ord(i) - ord('a')] = True \n",
    "              \n",
    "    # check if any charecter is missing then return False \n",
    "    for ch in alphabet: \n",
    "        if ch == False: \n",
    "            return False\n",
    "        \n",
    "    return True\n",
    "\n",
    "pangram = input()\n",
    "\n",
    "if (checkPangram(pangram)): \n",
    "    print(\"YES\")\n",
    "else: \n",
    "    print(\"NO\")"
   ]
  },
  {
   "cell_type": "code",
   "execution_count": 31,
   "metadata": {},
   "outputs": [
    {
     "name": "stdout",
     "output_type": "stream",
     "text": [
      "code\n",
      "edoc\n",
      "YES\n"
     ]
    }
   ],
   "source": [
    "s = input()\n",
    "t = input()\n",
    "\n",
    "if s == t[::-1]:\n",
    "    print(\"YES\")\n",
    "else:\n",
    "    print(\"NO\")"
   ]
  },
  {
   "cell_type": "code",
   "execution_count": 36,
   "metadata": {},
   "outputs": [
    {
     "name": "stdout",
     "output_type": "stream",
     "text": [
      "6\n",
      "DADADA\n",
      "Friendship\n"
     ]
    }
   ],
   "source": [
    "n = int(input())\n",
    "games = input()\n",
    "\n",
    "ant = 0\n",
    "dan = 0\n",
    "for i in range(n):\n",
    "    if (games[i] == \"A\"):\n",
    "        ant += 1\n",
    "    elif (games[i] == \"D\"):\n",
    "        dan += 1\n",
    "\n",
    "if(ant > dan):\n",
    "    print(\"Anton\")\n",
    "elif(ant < dan):\n",
    "    print(\"Danik\")\n",
    "else:\n",
    "    print(\"Friendship\")"
   ]
  },
  {
   "cell_type": "code",
   "execution_count": 38,
   "metadata": {},
   "outputs": [
    {
     "name": "stdout",
     "output_type": "stream",
     "text": [
      "Lock\n",
      "Lock\n"
     ]
    }
   ],
   "source": [
    "capslock_word = input()\n",
    "normal_word = \"\"\n",
    "new_word = list(capslock_word.lower())\n",
    "\n",
    "new_word[0] = new_word[0].upper()\n",
    "for i in range(len(capslock_word)):\n",
    "    normal_word += new_word[i]\n",
    "\n",
    "print(normal_word)"
   ]
  },
  {
   "cell_type": "code",
   "execution_count": 50,
   "metadata": {},
   "outputs": [
    {
     "name": "stdout",
     "output_type": "stream",
     "text": [
      "10\n",
      "nznooeeoer\n",
      "1 1 0 \n"
     ]
    }
   ],
   "source": [
    "# num = int(input())\n",
    "# fav_num = input()\n",
    "# binary = \"\"\n",
    "\n",
    "# for i in range(len(fav_num)):\n",
    "#     if(fav_num[i] == \"z\"):\n",
    "#         binary += \"0\"\n",
    "\n",
    "#     elif(fav_num[i] == \"n\"):\n",
    "#         binary += \"1\"\n",
    "\n",
    "# print(\" \".join(binary))\n",
    "\n",
    "  \n",
    "num = int(input())\n",
    "fav_num = input()\n",
    "\n",
    "zero_cnt = 0;\n",
    "one_cnt = 0;\n",
    "binary = \"\"\n",
    "\n",
    "for i in range(n):\n",
    "    if(fav_num[i] == \"z\"):\n",
    "        zero_cnt += 1\n",
    "    elif(fav_num[i] == \"n\"):\n",
    "        one_cnt += 1\n",
    "\n",
    "while one_cnt:\n",
    "    binary += \"1 \"\n",
    "    one_cnt -= 1\n",
    "while zero_cnt:\n",
    "    binary += \"0 \"\n",
    "    zero_cnt -= 1\n",
    "\n",
    "print(binary)"
   ]
  },
  {
   "cell_type": "code",
   "execution_count": 53,
   "metadata": {},
   "outputs": [
    {
     "name": "stdout",
     "output_type": "stream",
     "text": [
      "10\n",
      "xxxxxxxxxx\n",
      "8\n"
     ]
    }
   ],
   "source": [
    "num1 = int(input())\n",
    "file_name = input()\n",
    "\n",
    "cnt = 0\n",
    "x_remove = 0\n",
    "\n",
    "for i in range(num1):\n",
    "    if(file_name[i] == \"x\"):\n",
    "        cnt += 1\n",
    "        if cnt > 2:\n",
    "            x_remove += 1\n",
    "    else: \n",
    "        cnt = 0\n",
    "        \n",
    "print(x_remove)"
   ]
  }
 ],
 "metadata": {
  "kernelspec": {
   "display_name": "Python 3",
   "language": "python",
   "name": "python3"
  },
  "language_info": {
   "codemirror_mode": {
    "name": "ipython",
    "version": 3
   },
   "file_extension": ".py",
   "mimetype": "text/x-python",
   "name": "python",
   "nbconvert_exporter": "python",
   "pygments_lexer": "ipython3",
   "version": "3.8.3"
  }
 },
 "nbformat": 4,
 "nbformat_minor": 4
}
