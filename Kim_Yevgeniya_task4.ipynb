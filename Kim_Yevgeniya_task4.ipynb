{
 "cells": [
  {
   "cell_type": "code",
   "execution_count": 1,
   "metadata": {},
   "outputs": [
    {
     "name": "stdout",
     "output_type": "stream",
     "text": [
      "The german word for 'apple' is:  ['apfel']\n",
      "The german words for 'the' are:  ['das', 'die', 'der']\n",
      "The german word for 'airport' is:  []\n"
     ]
    }
   ],
   "source": [
    "def reverse_lookup(dictionary, value):\n",
    "    keys = []\n",
    "    for key in dictionary:\n",
    "        if dictionary[key] == value:\n",
    "            keys.append(key)\n",
    "\n",
    "    return keys\n",
    "\n",
    "def main():\n",
    "    german = {'hallo':'hello', 'tschüss':'bye', 'gut':'good', 'apfel':'apple', 'das':'the', 'die':'the', 'der':'the'}\n",
    "    \n",
    "    print(\"The german word for 'apple' is: \", reverse_lookup(german, \"apple\"))\n",
    "    print(\"The german words for 'the' are: \", reverse_lookup(german, \"the\"))\n",
    "    print(\"The german word for 'airport' is: \", reverse_lookup(german, \"airport\"))\n",
    "\n",
    "main()"
   ]
  },
  {
   "cell_type": "code",
   "execution_count": 2,
   "metadata": {},
   "outputs": [
    {
     "name": "stdout",
     "output_type": "stream",
     "text": [
      "Total  Simulated  Expected\n",
      "         Percent   Percent\n",
      "2        2.40        2.78\n",
      "3        5.60        5.56\n",
      "4        8.60        8.33\n",
      "5        12.50        11.11\n",
      "6        13.20        13.89\n",
      "7        15.70        16.67\n",
      "8        12.60        13.89\n",
      "9        11.80        11.11\n",
      "10        8.50        8.33\n",
      "11        6.60        5.56\n",
      "12        2.50        2.78\n"
     ]
    }
   ],
   "source": [
    "from random import randrange\n",
    "\n",
    "num_runs = 1000\n",
    "d_max = 6\n",
    "\n",
    "def two_dice():\n",
    "    d1 = randrange(1, d_max+1)\n",
    "    d2 = randrange(1, d_max+1)\n",
    "    \n",
    "    return d1 + d2\n",
    "\n",
    "def main():\n",
    "    expected = {2: 1/36, 3: 2/36, 4: 3/36, 5: 4/36, 6: 5/36, 7: 6/36, 8: 5/36, 9: 4/36, 10: 3/36, 11: 2/36, 12: 1/36}\n",
    "    counts = {2:0, 3:0, 4:0, 5:0, 6:0, 7:0, 8:0, 9:0, 10:0, 11:0, 12:0}\n",
    "    \n",
    "    for i in range(num_runs):\n",
    "        t = two_dice()\n",
    "        counts[t] = counts[t] + 1\n",
    "        \n",
    "    print(\"Total  Simulated  Expected\")\n",
    "    print(\"         Percent   Percent\")\n",
    "    \n",
    "    for i in sorted(counts.keys()):\n",
    "        print(i, \"       {:.2f}\".format(counts[i]/num_runs*100), \"       {:.2f}\".format(expected[i]*100))\n",
    "        \n",
    "main()"
   ]
  },
  {
   "cell_type": "code",
   "execution_count": 3,
   "metadata": {},
   "outputs": [
    {
     "name": "stdout",
     "output_type": "stream",
     "text": [
      "Enter any message: hello\n",
      "4\n",
      "4\n",
      "3\n",
      "3\n",
      "5\n",
      "5\n",
      "5\n",
      "5\n",
      "5\n",
      "5\n",
      "5\n",
      "5\n",
      "6\n",
      "6\n",
      "6\n",
      "6\n"
     ]
    }
   ],
   "source": [
    "text_letters = {\n",
    "    '1': ['.', ',', '?', '!', ':'],\n",
    "    '2': ['A', 'a', 'B', 'b', 'C', 'c'],\n",
    "    '3': ['D', 'd', 'E', 'e', 'F', 'f'],\n",
    "    '4': ['G', 'g', 'H', 'h', 'I', 'i'],\n",
    "    '5': ['J', 'j', 'K', 'k', 'L', 'l'],\n",
    "    '6': ['M', 'm', 'N', 'n', 'O', 'o'],\n",
    "    '7': ['P', 'p', 'Q', 'q', 'R', 'r', 'S', 's'],\n",
    "    '8': ['T', 't', 'U', 'u', 'V', 'v'],\n",
    "    '9': ['W', 'w', 'X', 'x', 'Y', 'y', 'Z', 'z'],\n",
    "    '0': [' ']\n",
    "#     '1': ['.', ',', '?', '!', ':'],\n",
    "#     '2': ['A', 'B', 'C'],\n",
    "#     '3': ['D', 'E', 'F'],\n",
    "#     '4': ['G', 'H', 'I'],\n",
    "#     '5': ['J', 'K', 'L'],\n",
    "#     '6': ['M', 'N', 'O'],\n",
    "#     '7': ['P', 'Q', 'R', 'S'],\n",
    "#     '8': ['T', 'U', 'V'],\n",
    "#     '9': ['W', 'X', 'Y', 'Z'],\n",
    "#     '0': [' ']\n",
    "}\n",
    "\n",
    "text = input(\"Enter any message: \")\n",
    "text = text.upper()\n",
    "\n",
    "for i in text:\n",
    "    for key,value in text_letters.items():\n",
    "        if i in value:\n",
    "            for a in range(value.index(i)):\n",
    "                print(key)"
   ]
  },
  {
   "cell_type": "code",
   "execution_count": 4,
   "metadata": {},
   "outputs": [
    {
     "name": "stdout",
     "output_type": "stream",
     "text": [
      "Enter any message: hello\n",
      "......-...-..---\n"
     ]
    }
   ],
   "source": [
    "morse_code = { 'A':'.-', 'B':'-...', \n",
    "               'C':'-.-.', 'D':'-..', 'E':'.', \n",
    "               'F':'..-.', 'G':'--.', 'H':'....', \n",
    "               'I':'..', 'J':'.---', 'K':'-.-', \n",
    "               'L':'.-..', 'M':'--', 'N':'-.', \n",
    "               'O':'---', 'P':'.--.', 'Q':'--.-', \n",
    "               'R':'.-.', 'S':'...', 'T':'-', \n",
    "               'U':'..-', 'V':'...-', 'W':'.--', \n",
    "               'X':'-..-', 'Y':'-.--', 'Z':'--..', \n",
    "               '1':'.----', '2':'..---', '3':'...--', \n",
    "               '4':'....-', '5':'.....', '6':'-....', \n",
    "               '7':'--...', '8':'---..', '9':'----.', \n",
    "               '0':'-----', ', ':'--..--', '.':'.-.-.-', \n",
    "               '?':'..--..', '/':'-..-.', '-':'-....-', \n",
    "               '(':'-.--.', ')':'-.--.-'}\n",
    "\n",
    "def morse(message):\n",
    "    code = \"\"\n",
    "    for letter in message:\n",
    "        if letter != \" \":\n",
    "            code += morse_code[letter] + \"\"\n",
    "        else:\n",
    "            code += \" \"\n",
    "    return code\n",
    "\n",
    "def main():\n",
    "    msg = input(\"Enter any message: \")\n",
    "    result = morse(msg.upper())\n",
    "    print(result)\n",
    "    \n",
    "main()"
   ]
  },
  {
   "cell_type": "code",
   "execution_count": 5,
   "metadata": {},
   "outputs": [
    {
     "name": "stdout",
     "output_type": "stream",
     "text": [
      "Enter a postal code: T2N\n",
      "That postal code is corresponds to an urban address in Alberta.\n"
     ]
    }
   ],
   "source": [
    "province_code = {'A': 'Newfoundland', 'B': 'Nova Scotia', 'C': 'Prince Edward Island',\n",
    "                 'E': 'New Brunswick', 'G': 'Quebec', 'H': 'Quebec', 'J': 'Quebec', 'K': 'Ontario',\n",
    "                 'L': 'Ontario', 'M': 'Ontario', 'N': 'Ontario', 'P': 'Ontario', 'R': 'Manitoba',\n",
    "                 'S': 'Saskatchewan', 'T': 'Alberta', 'V': 'British Columba',\n",
    "                 'X': 'Nunavut or Northwest Territories', 'Y': 'Yukon'}\n",
    "\n",
    "postal = (input(\"Enter a postal code: \")).upper()\n",
    "\n",
    "if postal[0] not in province_code or not ('0' <= postal[1] <= '9'):\n",
    "    print(\"That is not valid postal code.\")\n",
    "else:\n",
    "    classification = \"\"\n",
    "if postal[1] == \"0\":\n",
    "    classification = \" rural\"\n",
    "else:\n",
    "    classification = \"n urban\"\n",
    "    \n",
    "print(f\"That postal code is corresponds to a{classification} address in\", f\"{province_code[postal[0]]}.\")"
   ]
  },
  {
   "cell_type": "code",
   "execution_count": 6,
   "metadata": {},
   "outputs": [
    {
     "name": "stdout",
     "output_type": "stream",
     "text": [
      "Enter any number: 124\n",
      "one hundred and twenty four\n"
     ]
    }
   ],
   "source": [
    "num2words1 = {1: 'one', 2:'two', 3: 'three', 4: 'four', 5: 'five', \n",
    "              6: 'six', 7: 'seven', 8: 'eight', 9: 'nine', 10: 'ten',\n",
    "              11: 'eleven', 12: 'twelve', 13: 'thirteen', 14: 'fourteen', 15: 'fifteen',\n",
    "              16: 'sixteen', 17: 'seventeen', 18: 'eighteen', 19: 'nineteen'} \n",
    "num2words2 = {20: 'twenty', 30: 'thirty', 40: 'forty', 50: 'fifty', \n",
    "              60: 'sixty', 70: 'seventy', 80: 'eighty', 90: 'ninety'}\n",
    "\n",
    "def num_words(num):\n",
    "    if num == 0:\n",
    "        return \"\"\n",
    "    if num < 20:\n",
    "        return num2words1[num]\n",
    "    elif num < 100:\n",
    "        ray = divmod(num, 10)\n",
    "        return num2words2[ray[0]*10] + \" \" + num_words(ray[1])\n",
    "    elif num < 1000:\n",
    "        ray = divmod(num, 100)\n",
    "        if ray[1] == 0:\n",
    "            mid = \" hundred\"\n",
    "        else:\n",
    "            mid = \" hundred and \"\n",
    "        return num2words1[ray[0]] + mid + num_words(ray[1])\n",
    "\n",
    "def main():\n",
    "    num = int(input(\"Enter any number: \"))\n",
    "    print(num_words(num))\n",
    "    \n",
    "main()"
   ]
  },
  {
   "cell_type": "code",
   "execution_count": 7,
   "metadata": {},
   "outputs": [
    {
     "name": "stdout",
     "output_type": "stream",
     "text": [
      "Enter a string: hello world\n",
      "The string contains  8 unique character(s).\n"
     ]
    }
   ],
   "source": [
    "string = input(\"Enter a string: \")\n",
    "\n",
    "char = { }\n",
    "\n",
    "for ch in string:\n",
    "    char[ch] = True\n",
    "    \n",
    "print(\"The string contains \", len(char), \"unique character(s).\")"
   ]
  },
  {
   "cell_type": "code",
   "execution_count": 8,
   "metadata": {},
   "outputs": [
    {
     "name": "stdout",
     "output_type": "stream",
     "text": [
      "Enter the first word: evil\n",
      "Enter the second word: live\n",
      "Those strings are anagrams.\n"
     ]
    }
   ],
   "source": [
    "s1 = input(\"Enter the first word: \")\n",
    "s2 = input(\"Enter the second word: \")\n",
    "\n",
    "if s1 == s2[::-1]:\n",
    "    print(\"Those strings are anagrams.\")\n",
    "else: \n",
    "    print(\"Those strings are not anagrams.\")"
   ]
  },
  {
   "cell_type": "code",
   "execution_count": 9,
   "metadata": {},
   "outputs": [
    {
     "name": "stdout",
     "output_type": "stream",
     "text": [
      "Enter the first word: William Shakespeare\n",
      "Enter the second word: I am a weak speller\n",
      "Those strings are anagrams.\n"
     ]
    }
   ],
   "source": [
    "from string import punctuation\n",
    "\n",
    "def ch_counts(s):\n",
    "    counts = { }\n",
    "    s1 = s.lower().replace(\" \", \"\")\n",
    "    \n",
    "    for ch in s1:\n",
    "        if ch in punctuation:\n",
    "            continue\n",
    "        if ch in counts:\n",
    "            counts[ch] += 1\n",
    "        else:\n",
    "            counts[ch] = 1\n",
    "            \n",
    "def main():\n",
    "    str1 = input(\"Enter the first word: \")\n",
    "    str2 = input(\"Enter the second word: \")\n",
    "    counts1 = ch_counts(str1)\n",
    "    counts2 = ch_counts(str2)\n",
    "    \n",
    "    if counts1 == counts2:\n",
    "        print(\"Those strings are anagrams.\")\n",
    "    else: \n",
    "        print(\"Those strings are not anagrams.\")\n",
    "        \n",
    "main()"
   ]
  },
  {
   "cell_type": "code",
   "execution_count": 10,
   "metadata": {},
   "outputs": [
    {
     "name": "stdout",
     "output_type": "stream",
     "text": [
      "Enter a word: United\n",
      "United is worth 7 points.\n"
     ]
    }
   ],
   "source": [
    "points = {\"A\": 1, \"B\": 3, \"C\": 3, \"D\": 2, \"E\": 1, \"F\": 4, \"G\": 2, \"H\": 4, \"I\": 1, \"J\": 2, \"K\": 5, \"L\": 1,\n",
    "          \"M\": 3, \"N\": 1, \"O\": 1, \"P\": 3, \"Q\": 10, \"R\": 1, \"S\": 1, \"T\": 1, \"U\": 1, \"V\": 4, \"W\": 4, \"X\": 8, \"Y\": 4, \"Z\": 10}\n",
    "\n",
    "word = input(\"Enter a word: \")\n",
    "\n",
    "uppercase = word.upper()\n",
    "score = 0\n",
    "\n",
    "for ch in uppercase:\n",
    "    score += points[ch]\n",
    "    \n",
    "print(word, \"is worth\", score, \"points.\")"
   ]
  }
 ],
 "metadata": {
  "kernelspec": {
   "display_name": "Python 3",
   "language": "python",
   "name": "python3"
  },
  "language_info": {
   "codemirror_mode": {
    "name": "ipython",
    "version": 3
   },
   "file_extension": ".py",
   "mimetype": "text/x-python",
   "name": "python",
   "nbconvert_exporter": "python",
   "pygments_lexer": "ipython3",
   "version": "3.8.3"
  }
 },
 "nbformat": 4,
 "nbformat_minor": 4
}
